{
 "cells": [
  {
   "cell_type": "code",
   "execution_count": 4,
   "metadata": {},
   "outputs": [],
   "source": [
    "# import pathlib\n",
    "\n",
    "# PATH_TO_TEST_IMAGES_DIR = pathlib.Path('test_images')\n",
    "# TEST_IMAGE_PATHS = sorted(list(PATH_TO_TEST_IMAGES_DIR.glob(\"*.jpg\")))\n",
    "# TEST_IMAGE_PATHS"
   ]
  },
  {
   "cell_type": "code",
   "execution_count": 14,
   "metadata": {},
   "outputs": [],
   "source": [
    "from xml.etree.ElementTree import Element, SubElement, ElementTree\n",
    "\n",
    "def _pretty_print(current, parent=None, index=-1, depth=0):\n",
    "    for i, node in enumerate(current):\n",
    "        _pretty_print(node, current, i, depth + 1)\n",
    "    if parent is not None:\n",
    "        if index == 0:\n",
    "            parent.text = '\\n' + ('\\t' * depth)\n",
    "        else:\n",
    "            parent[index - 1].tail = '\\n' + ('\\t' * depth)\n",
    "        if index == len(parent) - 1:\n",
    "            current.tail = '\\n' + ('\\t' * (depth - 1))\n",
    "\n",
    "\n",
    "root = Element(\"annotation\")\n",
    "\n",
    "element1 = Element(\"folder\")\n",
    "element1.text = \"labelledImg_folder\"\n",
    "root.append(element1)\n",
    "\n",
    "element2 = Element(\"filename\")\n",
    "element2.text = \"file_name_test1.jpg\"\n",
    "root.append(element2)\n",
    "\n",
    "element3 = Element(\"path\")\n",
    "element3.text = \"PATH_TO_TEST_IMAGES_DIR, +.jpg\"\n",
    "root.append(element3)\n",
    "\n",
    "element4 = Element(\"source\")\n",
    "root.append(element4)\n",
    "\n",
    "sub_element4_1 = SubElement(element4, \"database\")\n",
    "sub_element4_1.text = \"Unknown\"\n",
    "\n",
    "element5 = Element(\"size\")\n",
    "root.append(element5)\n",
    "sub_element5_1 = SubElement(element5, \"width\")\n",
    "sub_element5_1.text = \"923\"\n",
    "sub_element5_2 = SubElement(element5, \"height\")\n",
    "sub_element5_2.text = \"676\"\n",
    "sub_element5_3 = SubElement(element5, \"depth\")\n",
    "sub_element5_3.text = \"3\"\n",
    "\n",
    "element6 = Element(\"segmented\")\n",
    "element6.text = \"0\"\n",
    "root.append(element6)\n",
    "\n",
    "#-------------object( = x,y__min,max start)\n",
    "\n",
    "element7 = Element(\"object\")\n",
    "root.append(element7)\n",
    "sub_element7_1 = SubElement(element7, \"name\")\n",
    "sub_element7_1.text = \"wall-l-d-05\"\n",
    "sub_element7_2 = SubElement(element7, \"pose\")\n",
    "sub_element7_2.text = \"Unspecified\"\n",
    "sub_element7_3 = SubElement(element7, \"truncated\")\n",
    "sub_element7_3.text = \"0\"\n",
    "sub_element7_4 = SubElement(element7, \"difficult\")\n",
    "sub_element7_4.text = \"0\"\n",
    "sub_element7_5 = SubElement(element7, \"bndbox\")\n",
    "sub_element7_5_1 = SubElement(sub_element7_5, \"xmin\")\n",
    "sub_element7_5_1.text = \"241\"\n",
    "sub_element7_5_2 = SubElement(sub_element7_5, \"ymin\")\n",
    "sub_element7_5_2.text = \"270\"\n",
    "sub_element7_5_3 = SubElement(sub_element7_5, \"xmax\")\n",
    "sub_element7_5_3.text = \"272\"\n",
    "sub_element7_5_4 = SubElement(sub_element7_5, \"ymax\")\n",
    "sub_element7_5_4.text = \"301\"\n",
    "\n",
    "#-------------object end;\n",
    "\n",
    "_pretty_print(root)\n",
    "\n",
    "tree = ElementTree(root)\n",
    "\n",
    "fileName = \"example.xml\"\n",
    "\n",
    "with open(fileName, \"wb\") as file:\n",
    "    tree.write(file, encoding='utf-8', xml_declaration=True)\n",
    "    \n",
    "# with open(\"./\" + image_path.stem + \".xml\", 'w') as outfile:\n",
    "#     json.dump(data, outfile, indent=4)"
   ]
  },
  {
   "cell_type": "code",
   "execution_count": 6,
   "metadata": {},
   "outputs": [],
   "source": [
    "# for image_path in TEST_IMAGE_PATHS:\n",
    "#   export(detection_model, image_path)"
   ]
  },
  {
   "cell_type": "code",
   "execution_count": 15,
   "metadata": {},
   "outputs": [
    {
     "name": "stdout",
     "output_type": "stream",
     "text": [
      "<annotation>\n",
      "\t<folder>labelledImg_folder</folder>\n",
      "\t<filename>file_name_test1.png</filename>\n",
      "\t<path>PATH_TO_TEST_IMAGES_DIR, +.png</path>\n",
      "\t<source>\n",
      "\t\t<database>Unknown</database>\n",
      "\t</source>\n",
      "\t<size>\n",
      "\t\t<width>923</width>\n",
      "\t\t<height>676</height>\n",
      "\t\t<depth>3</depth>\n",
      "\t</size>\n",
      "\t<segmented>0</segmented>\n",
      "\t<object>\n",
      "\t\t<name>wall-l-d-05</name>\n",
      "\t\t<pose>Unspecified</pose>\n",
      "\t\t<truncated>0</truncated>\n",
      "\t\t<difficult>0</difficult>\n",
      "\t\t<bndbox>\n",
      "\t\t\t<xmin>241</xmin>\n",
      "\t\t\t<ymin>270</ymin>\n",
      "\t\t\t<xmax>272</xmax>\n",
      "\t\t\t<ymax>301</ymax>\n",
      "\t\t</bndbox>\n",
      "\t</object>\n",
      "</annotation>\n"
     ]
    }
   ],
   "source": [
    "import xml.etree.ElementTree as ET\n",
    "\n",
    "\n",
    "filePath = \"./example.xml\"\n",
    "tree = ET.parse(filePath)\n",
    "ET.dump(tree)"
   ]
  }
 ],
 "metadata": {
  "kernelspec": {
   "display_name": "Python 3.9.1 64-bit",
   "language": "python",
   "name": "python3"
  },
  "language_info": {
   "codemirror_mode": {
    "name": "ipython",
    "version": 3
   },
   "file_extension": ".py",
   "mimetype": "text/x-python",
   "name": "python",
   "nbconvert_exporter": "python",
   "pygments_lexer": "ipython3",
   "version": "3.9.1"
  },
  "orig_nbformat": 4,
  "vscode": {
   "interpreter": {
    "hash": "6fff98fc3b3d81bd655c2cc48858186e4d9e2db7b515bf1c3221888f12a62f87"
   }
  }
 },
 "nbformat": 4,
 "nbformat_minor": 2
}
